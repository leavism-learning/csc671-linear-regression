{
 "cells": [
  {
   "cell_type": "markdown",
   "metadata": {},
   "source": [
    "# Objective\n",
    "The objective for this assignment is to take the in-class Multi-Layer Perceptron code we used for classification and modify it for regression."
   ]
  },
  {
   "cell_type": "markdown",
   "metadata": {},
   "source": [
    "# Approach\n",
    "## MLP Class\n",
    "We write an MLP class that inherits `torch.nn.Module`, the basic Neural Network module containing the required functions we'll use for Linear Regression.\n",
    "\n",
    "The `torch.nn.Sequential` class creates a sequential container that allows us to manually call a sequence of modules. In effect, it enables us to transform the container as needed, like creating three `torch.nn.Linear` layers. The input to the first layer should be the number of features and the output of the last layer should be 1. In this case, we'll call the Sigmoid activation function to see a non-linear fit to the data. This will be graphed later in the report."
   ]
  },
  {
   "cell_type": "code",
   "execution_count": null,
   "metadata": {},
   "outputs": [],
   "source": [
    "import torch\n",
    "\n",
    "class MLP(torch.nn.Module):\n",
    "\tdef __init__(self, num_features):\n",
    "\t\tsuper().__init__()\n",
    "\t\tself.all_layers = torch.nn.Sequential(\n",
    "            # 1st hidden layer\n",
    "            torch.nn.Linear(num_features, 5),\n",
    "            torch.nn.Sigmoid(),\n",
    "            # 2nd hidden layer\n",
    "            torch.nn.Linear(5, 2),\n",
    "            torch.nn.Sigmoid(),\t\t\t\t\t\t  \n",
    "            # output layer\n",
    "            torch.nn.Linear(2, 1),\n",
    "        )\n",
    "\n",
    "\tdef forward(self, x):\n",
    "\t\tlogits = self.all_layers(x)\n",
    "\t\treturn logits"
   ]
  },
  {
   "cell_type": "markdown",
   "metadata": {},
   "source": [
    "## Dataset, Data normalization, and Dataloader\n",
    "\n",
    "Given the data below"
   ]
  },
  {
   "cell_type": "code",
   "execution_count": null,
   "metadata": {},
   "outputs": [],
   "source": [
    "X_train = torch.tensor([245.0, 273.0, 304.0, 331.0, 347.0, 360.0, 387.0, 438.0, 493.0, 547.0]).view(-1,1)\n",
    "y_train = torch.tensor([232.3, 241.1, 257.4, 301.5, 324.6, 350.2, 362.3, 389.0, 398.2, 401.8])"
   ]
  },
  {
   "cell_type": "markdown",
   "metadata": {},
   "source": [
    "We can create a `MyDataset` class modeled after the one we discussed in the lecture. This time, instead of inheriting from the `Dataset` class, we'll inherit from the `TensorDataset` class as our data is already tensorized.\n",
    "\n",
    "The `MyDataset` class is a map-style dataset and needs to implement the `__getItem__()` and `__len__()` protocols. By defining these methods, we enable the use of the `DataLoader` utility class, allowing us to easily iterate through the dataset during our training loop."
   ]
  },
  {
   "cell_type": "code",
   "execution_count": null,
   "metadata": {},
   "outputs": [],
   "source": [
    "from torch.utils.data import TensorDataset \n",
    "\n",
    "class MyDataset(TensorDataset):\n",
    "\tdef __init__(self, X, y):\n",
    "\t\tself.features = X\n",
    "\t\tself.labels = y\n",
    "\n",
    "\tdef __getitem__(self, index):\n",
    "\t\tx = self.features[index]\n",
    "\t\ty = self.labels[index]\n",
    "\t\treturn x, y\n",
    "\t\n",
    "\tdef __len__(self):\n",
    "\t\treturn self.labels.shape[0]"
   ]
  },
  {
   "cell_type": "markdown",
   "metadata": {},
   "source": [
    "The classification example during lecture did not use normalized data because it was already centered at zero, and had relatively small values.\n",
    "\n",
    "In our case, we will normalize the data by doing z-score standardization using the mean and standard deviation of the given data. We'll also later use these values to make predictions when plotting the regression curve.\n",
    "\n",
    "We then put our normalized data into the `MyDataset` class, which is then inserted into the `DataLoader` utility class for training."
   ]
  },
  {
   "cell_type": "code",
   "execution_count": null,
   "metadata": {},
   "outputs": [],
   "source": [
    "from torch.utils.data import DataLoader \n",
    "\n",
    "X_mean, X_std = X_train.mean(), X_train.std()\n",
    "y_mean, y_std = y_train.mean(), y_train.std()\n",
    "\n",
    "X_normalized = (X_train - X_mean) / X_std\n",
    "y_normalized = (y_train - y_mean) / y_std\n",
    "\n",
    "train_ds = MyDataset(X_normalized, y_normalized)\n",
    "\n",
    "train_loader = DataLoader(\n",
    "\tdataset=train_ds,\n",
    "\tbatch_size=5,\n",
    "\tshuffle=True,\n",
    ")"
   ]
  }
 ],
 "metadata": {
  "kernelspec": {
   "display_name": "Python 3",
   "language": "python",
   "name": "python3"
  },
  "language_info": {
   "name": "python",
   "version": "3.11.6"
  }
 },
 "nbformat": 4,
 "nbformat_minor": 2
}
